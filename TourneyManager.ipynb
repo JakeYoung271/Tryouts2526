{
 "cells": [
  {
   "cell_type": "code",
   "execution_count": 140,
   "id": "633fb939",
   "metadata": {},
   "outputs": [],
   "source": [
    "import pandas as pd\n",
    "import cvxpy as cp\n",
    "import numpy as np\n",
    "from dataclasses import dataclass\n",
    "import random"
   ]
  },
  {
   "cell_type": "markdown",
   "id": "6b67e876",
   "metadata": {},
   "source": [
    "# Getting People"
   ]
  },
  {
   "cell_type": "code",
   "execution_count": 141,
   "id": "2001e6e7",
   "metadata": {},
   "outputs": [
    {
     "data": {
      "text/html": [
       "<div>\n",
       "<style scoped>\n",
       "    .dataframe tbody tr th:only-of-type {\n",
       "        vertical-align: middle;\n",
       "    }\n",
       "\n",
       "    .dataframe tbody tr th {\n",
       "        vertical-align: top;\n",
       "    }\n",
       "\n",
       "    .dataframe thead th {\n",
       "        text-align: right;\n",
       "    }\n",
       "</style>\n",
       "<table border=\"1\" class=\"dataframe\">\n",
       "  <thead>\n",
       "    <tr style=\"text-align: right;\">\n",
       "      <th></th>\n",
       "      <th>Timestamp</th>\n",
       "      <th>UCLA email</th>\n",
       "      <th>First and Last name</th>\n",
       "      <th>What year are you?</th>\n",
       "      <th>Have you played with UCLA spike before?</th>\n",
       "      <th>Phone number</th>\n",
       "      <th>What is your skill level</th>\n",
       "      <th>Are you interested in playing competitively or just for fun?</th>\n",
       "      <th>Do you follow ucla.spike on instagram</th>\n",
       "      <th>How did you hear about us?</th>\n",
       "      <th>Feel free to share anything relevant</th>\n",
       "      <th>What days of Tryouts do you plan on coming? (check all that apply)</th>\n",
       "    </tr>\n",
       "  </thead>\n",
       "  <tbody>\n",
       "    <tr>\n",
       "      <th>0</th>\n",
       "      <td>9/21/2025 9:46:32</td>\n",
       "      <td>youngjakecubes@g.ucla.edu</td>\n",
       "      <td>Jake Young</td>\n",
       "      <td>Senior</td>\n",
       "      <td>Yes</td>\n",
       "      <td>NaN</td>\n",
       "      <td>6 - Expert: I am willing to bet $100 nobody he...</td>\n",
       "      <td>Sign me up for sectionals</td>\n",
       "      <td>Yes</td>\n",
       "      <td>RecFest</td>\n",
       "      <td>NaN</td>\n",
       "      <td>NaN</td>\n",
       "    </tr>\n",
       "    <tr>\n",
       "      <th>1</th>\n",
       "      <td>9/21/2025 9:47:02</td>\n",
       "      <td>aubrey@g.ucla.edu</td>\n",
       "      <td>Aubrey Lilo</td>\n",
       "      <td>Junior</td>\n",
       "      <td>Yes</td>\n",
       "      <td>NaN</td>\n",
       "      <td>6 - Expert: I am willing to bet $100 nobody he...</td>\n",
       "      <td>Sign me up for sectionals</td>\n",
       "      <td>Yes</td>\n",
       "      <td>Glassdoor</td>\n",
       "      <td>NaN</td>\n",
       "      <td>NaN</td>\n",
       "    </tr>\n",
       "    <tr>\n",
       "      <th>2</th>\n",
       "      <td>9/21/2025 9:48:25</td>\n",
       "      <td>shteve@ucla.edu</td>\n",
       "      <td>Steven Pot</td>\n",
       "      <td>Freshman</td>\n",
       "      <td>No</td>\n",
       "      <td>NaN</td>\n",
       "      <td>4 - Advanced: I know about competitive serving...</td>\n",
       "      <td>Just trying to play for fun</td>\n",
       "      <td>Yes</td>\n",
       "      <td>Glassdoor</td>\n",
       "      <td>NaN</td>\n",
       "      <td>NaN</td>\n",
       "    </tr>\n",
       "  </tbody>\n",
       "</table>\n",
       "</div>"
      ],
      "text/plain": [
       "           Timestamp                 UCLA email First and Last name  \\\n",
       "0  9/21/2025 9:46:32  youngjakecubes@g.ucla.edu          Jake Young   \n",
       "1  9/21/2025 9:47:02          aubrey@g.ucla.edu         Aubrey Lilo   \n",
       "2  9/21/2025 9:48:25            shteve@ucla.edu          Steven Pot   \n",
       "\n",
       "  What year are you? Have you played with UCLA spike before?  Phone number  \\\n",
       "0             Senior                                     Yes           NaN   \n",
       "1             Junior                                     Yes           NaN   \n",
       "2           Freshman                                      No           NaN   \n",
       "\n",
       "                            What is your skill level  \\\n",
       "0  6 - Expert: I am willing to bet $100 nobody he...   \n",
       "1  6 - Expert: I am willing to bet $100 nobody he...   \n",
       "2  4 - Advanced: I know about competitive serving...   \n",
       "\n",
       "  Are you interested in playing competitively or just for fun?  \\\n",
       "0                          Sign me up for sectionals             \n",
       "1                          Sign me up for sectionals             \n",
       "2                        Just trying to play for fun             \n",
       "\n",
       "  Do you follow ucla.spike on instagram How did you hear about us?  \\\n",
       "0                                   Yes                    RecFest   \n",
       "1                                   Yes                  Glassdoor   \n",
       "2                                   Yes                  Glassdoor   \n",
       "\n",
       "   Feel free to share anything relevant  \\\n",
       "0                                   NaN   \n",
       "1                                   NaN   \n",
       "2                                   NaN   \n",
       "\n",
       "   What days of Tryouts do you plan on coming? (check all that apply)  \n",
       "0                                                NaN                   \n",
       "1                                                NaN                   \n",
       "2                                                NaN                   "
      ]
     },
     "execution_count": 141,
     "metadata": {},
     "output_type": "execute_result"
    }
   ],
   "source": [
    "def get_form_responses():\n",
    "    url = r\"https://docs.google.com/spreadsheets/d/1KmJBO5oKwygn-2AzwX-hS1wGeQMmLwyizFqtsSZo7_w/export?format=csv\"\n",
    "    df = pd.read_csv(url)\n",
    "    return df\n",
    "\n",
    "resps = get_form_responses()\n",
    "resps"
   ]
  },
  {
   "cell_type": "code",
   "execution_count": 142,
   "id": "b40d7fe8",
   "metadata": {},
   "outputs": [],
   "source": [
    "@dataclass\n",
    "class Player:\n",
    "    id: int\n",
    "    name: str\n",
    "    email: str\n",
    "    initial_elo: float\n",
    "    latest_elo: float = None\n",
    "\n",
    "@dataclass\n",
    "class Game:\n",
    "    # Player IDs\n",
    "    p1: int\n",
    "    p2: int\n",
    "    p3: int\n",
    "    p4: int\n",
    "    result: int  # 1 if p1/p2 win, 0 if p3/p4 win"
   ]
  },
  {
   "cell_type": "code",
   "execution_count": 143,
   "id": "48495937",
   "metadata": {},
   "outputs": [
    {
     "name": "stdout",
     "output_type": "stream",
     "text": [
      "Added player: Jake Young with ID: 0\n",
      "Added player: Aubrey Lilo with ID: 1\n",
      "Added player: Steven Pot with ID: 2\n"
     ]
    }
   ],
   "source": [
    "c_email  = \"UCLA email\"\n",
    "c_name = \"First and Last name\"\n",
    "c_skill = \"What is your skill level\"\n",
    "\n",
    "players = []\n",
    "emails = set()\n",
    "curr_id = 0\n",
    "for index, row in resps.iterrows():\n",
    "    if row[c_email] in emails:\n",
    "        print(f\"Duplicate email found: {row[c_email]}, skipping entry.\")\n",
    "        print(row)\n",
    "    skill = int(row[c_skill][0])\n",
    "    initial_elo = 600 + skill * 100\n",
    "    player = Player(curr_id, row[c_name], row[c_email], initial_elo)\n",
    "    players.append(player)\n",
    "    emails.add(row[c_email])\n",
    "    curr_id += 1\n",
    "    print(f\"Added player: {player.name} with ID: {player.id}\")"
   ]
  },
  {
   "cell_type": "code",
   "execution_count": 83,
   "id": "ae6cbf98",
   "metadata": {},
   "outputs": [
    {
     "name": "stdout",
     "output_type": "stream",
     "text": [
      "Player(id=0, name='Jake Young', email='youngjakecubes@g.ucla.edu', initial_elo=1200, latest_elo=None)\n"
     ]
    }
   ],
   "source": [
    "print(players[0])"
   ]
  },
  {
   "cell_type": "markdown",
   "id": "2fd440c8",
   "metadata": {},
   "source": [
    "# Getting Games"
   ]
  },
  {
   "cell_type": "markdown",
   "id": "8910c351",
   "metadata": {},
   "source": [
    "## todo lol"
   ]
  },
  {
   "cell_type": "code",
   "execution_count": 84,
   "id": "c7e9604e",
   "metadata": {},
   "outputs": [],
   "source": [
    "def get_games():\n",
    "    url = r\"https://docs.google.com/spreadsheets/d/1JGXGaMiixEOw_vLqbQ9XwBn8BoNYGGN9PEqI7RWOtKg/export?format=csv\"\n",
    "    df = pd.read_csv(url)\n",
    "    return df\n",
    "\n",
    "games = get_games()"
   ]
  },
  {
   "cell_type": "code",
   "execution_count": 85,
   "id": "54daedf9",
   "metadata": {},
   "outputs": [
    {
     "data": {
      "text/html": [
       "<div>\n",
       "<style scoped>\n",
       "    .dataframe tbody tr th:only-of-type {\n",
       "        vertical-align: middle;\n",
       "    }\n",
       "\n",
       "    .dataframe tbody tr th {\n",
       "        vertical-align: top;\n",
       "    }\n",
       "\n",
       "    .dataframe thead th {\n",
       "        text-align: right;\n",
       "    }\n",
       "</style>\n",
       "<table border=\"1\" class=\"dataframe\">\n",
       "  <thead>\n",
       "    <tr style=\"text-align: right;\">\n",
       "      <th></th>\n",
       "      <th>Timestamp</th>\n",
       "      <th>Player 1 id</th>\n",
       "      <th>Player 2 id</th>\n",
       "      <th>Player 3 id</th>\n",
       "      <th>Player 4 id</th>\n",
       "      <th>Result</th>\n",
       "    </tr>\n",
       "  </thead>\n",
       "  <tbody>\n",
       "    <tr>\n",
       "      <th>0</th>\n",
       "      <td>9/21/2025 10:43:47</td>\n",
       "      <td>0</td>\n",
       "      <td>1</td>\n",
       "      <td>2</td>\n",
       "      <td>3</td>\n",
       "      <td>1</td>\n",
       "    </tr>\n",
       "    <tr>\n",
       "      <th>1</th>\n",
       "      <td>9/21/2025 10:43:59</td>\n",
       "      <td>0</td>\n",
       "      <td>2</td>\n",
       "      <td>1</td>\n",
       "      <td>3</td>\n",
       "      <td>1</td>\n",
       "    </tr>\n",
       "  </tbody>\n",
       "</table>\n",
       "</div>"
      ],
      "text/plain": [
       "            Timestamp  Player 1 id  Player 2 id  Player 3 id  Player 4 id  \\\n",
       "0  9/21/2025 10:43:47            0            1            2            3   \n",
       "1  9/21/2025 10:43:59            0            2            1            3   \n",
       "\n",
       "   Result  \n",
       "0       1  \n",
       "1       1  "
      ]
     },
     "execution_count": 85,
     "metadata": {},
     "output_type": "execute_result"
    }
   ],
   "source": [
    "games"
   ]
  },
  {
   "cell_type": "markdown",
   "id": "92555a4d",
   "metadata": {},
   "source": [
    "# Optimizing Ratings"
   ]
  },
  {
   "cell_type": "code",
   "execution_count": 144,
   "id": "caa24f6c",
   "metadata": {},
   "outputs": [],
   "source": [
    "def optimize_ratings(players, games):\n",
    "    for index, player in enumerate(players):\n",
    "        assert player.id == index, \"Player IDs must be sequential starting from 0\"\n",
    "    \n",
    "    beta = np.log(10) / 400\n",
    "    n = len(players)\n",
    "    initial_ratings = np.array([player.initial_elo for player in players]) # modify this according to input skill levels\n",
    "    sigma = 400.0\n",
    "    ratings = cp.Variable(n)\n",
    "    # prior is rating is normal dist with stdev 400, mean self reported\n",
    "    self_report_prior = -0.5 * cp.sum_squares((ratings - initial_ratings) / sigma)\n",
    "    # probably set to 1000\n",
    "    mean_prior = 10 * -0.5 * cp.sum_squares((cp.sum(ratings) / n - 1500) / (sigma / np.sqrt(n)))\n",
    "\n",
    "    obj_func = []\n",
    "    for g in games:\n",
    "        result = float(g.result) # 1 if p1/p2 win, 0 if p3/p4 win\n",
    "        z = beta * 0.5 * (ratings[g.p1] + ratings[g.p2] - ratings[g.p3] - ratings[g.p4])\n",
    "        obj_func.append(result * z - cp.logistic(z))\n",
    "\n",
    "    objective = cp.Maximize(cp.sum(obj_func) + self_report_prior + mean_prior)\n",
    "    constraints = [ratings >= 0, ratings <= 2000]\n",
    "    problem = cp.Problem(objective, constraints)\n",
    "    problem.solve()\n",
    "    if True:\n",
    "        for i in range(n):\n",
    "            players[i].latest_elo = int(ratings.value[i])\n",
    "    return ratings.value"
   ]
  },
  {
   "cell_type": "markdown",
   "id": "3ceb02dd",
   "metadata": {},
   "source": [
    "# Testing Optimizer"
   ]
  },
  {
   "cell_type": "code",
   "execution_count": 149,
   "id": "789c88d1",
   "metadata": {},
   "outputs": [],
   "source": [
    "# Josh: 1900 Kyan: 1750 Jake: 1650 Jai: 1625 Archie: 1600 Steven: 1550 Reece: 1450 Luke: 1350 Aubrey: 1250 Alex: 1000\n",
    "true_elos = {\n",
    "    \"Josh\": 1900,\n",
    "    \"Kyan\": 1750,\n",
    "    \"Jake\": 1650,\n",
    "    \"Jai\": 1625,\n",
    "    \"Archie\": 1600,\n",
    "    \"Steven\": 1550,\n",
    "    \"Aubrey\": 1500,\n",
    "    \"Reece\": 1450,\n",
    "    \"Luke\": 1350,\n",
    "    \"Alex\": 1000\n",
    "}\n",
    "\n",
    "true_ratings = list(true_elos.values())\n",
    "names = list(true_elos.keys())\n",
    "\n",
    "players = [Player(i, list( true_elos.keys())[i], \"\", 1500) for i in range(10)]\n"
   ]
  },
  {
   "cell_type": "code",
   "execution_count": 150,
   "id": "fa156af0",
   "metadata": {},
   "outputs": [
    {
     "name": "stdout",
     "output_type": "stream",
     "text": [
      "[Player(id=0, name='Josh', email='', initial_elo=1500, latest_elo=None), Player(id=1, name='Kyan', email='', initial_elo=1500, latest_elo=None), Player(id=2, name='Jake', email='', initial_elo=1500, latest_elo=None), Player(id=3, name='Jai', email='', initial_elo=1500, latest_elo=None), Player(id=4, name='Archie', email='', initial_elo=1500, latest_elo=None), Player(id=5, name='Steven', email='', initial_elo=1500, latest_elo=None), Player(id=6, name='Aubrey', email='', initial_elo=1500, latest_elo=None), Player(id=7, name='Reece', email='', initial_elo=1500, latest_elo=None), Player(id=8, name='Luke', email='', initial_elo=1500, latest_elo=None), Player(id=9, name='Alex', email='', initial_elo=1500, latest_elo=None)]\n",
      "1537.5\n"
     ]
    }
   ],
   "source": [
    "print(players)\n",
    "print(np.mean(true_ratings))"
   ]
  },
  {
   "cell_type": "code",
   "execution_count": 151,
   "id": "913d5573",
   "metadata": {},
   "outputs": [],
   "source": [
    "rng = random.Random(100)\n",
    "num_games = 1000\n",
    "games = []\n",
    "\n",
    "indices = list(range(len(players)))\n",
    "for _ in range(num_games):\n",
    "    # pick 4 distinct players\n",
    "    picks = rng.sample(indices, 4)\n",
    "    rng.shuffle(picks)\n",
    "    p1, p2, p3, p4 = picks[0], picks[1], picks[2], picks[3]\n",
    "\n",
    "    # true win prob for Team1 using Elo model\n",
    "    D_true = 0.5 * (true_ratings[p1] + true_ratings[p2] - true_ratings[p3] - true_ratings[p4])\n",
    "    p_win = 1.0 / (1.0 + 10 ** (-D_true / 400.0))\n",
    "\n",
    "    # sample outcome\n",
    "    result = 1 if rng.random() < p_win else 0\n",
    "\n",
    "    games.append(Game(p1=p1, p2=p2, p3=p3, p4=p4, result=result))\n",
    "\n",
    "# ----- Fit ratings with your optimizer -----\n",
    "estimated = optimize_ratings(players, games)"
   ]
  },
  {
   "cell_type": "markdown",
   "id": "ec4c9148",
   "metadata": {},
   "source": [
    "# Matchmaking"
   ]
  },
  {
   "cell_type": "code",
   "execution_count": null,
   "id": "f9e0ad38",
   "metadata": {},
   "outputs": [],
   "source": []
  }
 ],
 "metadata": {
  "kernelspec": {
   "display_name": "Python 3",
   "language": "python",
   "name": "python3"
  },
  "language_info": {
   "codemirror_mode": {
    "name": "ipython",
    "version": 3
   },
   "file_extension": ".py",
   "mimetype": "text/x-python",
   "name": "python",
   "nbconvert_exporter": "python",
   "pygments_lexer": "ipython3",
   "version": "3.12.6"
  }
 },
 "nbformat": 4,
 "nbformat_minor": 5
}
